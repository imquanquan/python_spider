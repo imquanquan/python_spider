{
 "cells": [
  {
   "cell_type": "code",
   "execution_count": 1,
   "metadata": {
    "collapsed": true
   },
   "outputs": [],
   "source": [
    "from datetime import datetime,timedelta\n",
    "import requests\n",
    "import pandas as pd\n",
    "import time"
   ]
  },
  {
   "cell_type": "code",
   "execution_count": 2,
   "metadata": {
    "collapsed": true
   },
   "outputs": [],
   "source": [
    "def datelist(beginDate, endDate, freq):\n",
    "    date_l = [x for x in list(pd.date_range(start = beginDate, end = endDate, freq = freq))]\n",
    "    return date_l"
   ]
  },
  {
   "cell_type": "code",
   "execution_count": 3,
   "metadata": {},
   "outputs": [],
   "source": [
    "headers = {\n",
    "            'Referer' : 'http://products.weather.com.cn/product/radar/index/procode/JC_RADAR_AZ9200_JB.shtml',\n",
    "            'User-Agent' : 'Mozilla/5.0 (X11; Linux x86_64) AppleWebKit/537.36 (KHTML, like Gecko) Chrome/58.0.3029.110 Safari/537.36'\n",
    "        }\n",
    "now = datetime.now().strftime(\"%Y-%m-%d %H:%M:%S\")\n",
    "yesterday = (datetime.now() - timedelta(1)).strftime(\"%Y-%m-%d %H:%M:%S\")\n",
    "error = requests.get(\"http://i.weather.com.cn/i/product/pic/l/sevp_aoc_rdcp_sldas_ebref_az9200_l88_pi_20171020010000000.png\", headers=headers).content"
   ]
  },
  {
   "cell_type": "code",
   "execution_count": null,
   "metadata": {},
   "outputs": [
    {
     "name": "stdout",
     "output_type": "stream",
     "text": [
      "http://i.weather.com.cn/i/product/pic/l/sevp_aoc_rdcp_sldas_ebref_az9200_l88_pi_20171026233100000.png\n",
      "http://i.weather.com.cn/i/product/pic/l/sevp_aoc_rdcp_sldas_ebref_az9200_l88_pi_20171026233700000.png\n",
      "http://i.weather.com.cn/i/product/pic/l/sevp_aoc_rdcp_sldas_ebref_az9200_l88_pi_20171026234300000.png\n",
      "http://i.weather.com.cn/i/product/pic/l/sevp_aoc_rdcp_sldas_ebref_az9200_l88_pi_20171026234900000.png\n",
      "http://i.weather.com.cn/i/product/pic/l/sevp_aoc_rdcp_sldas_ebref_az9200_l88_pi_20171026235500000.png\n"
     ]
    }
   ],
   "source": [
    "for date in datelist(yesterday, now, \"6min\"):\n",
    "    year = datetime.strftime(date, \"%y\")\n",
    "    month = datetime.strftime(date, \"%m\") \n",
    "    day = datetime.strftime(date, \"%d\")\n",
    "    hour = datetime.strftime(date, \"%H\")\n",
    "    minute = datetime.strftime(date, \"%M\")                          \n",
    "    link = \"http://i.weather.com.cn/i/product/pic/l/sevp_aoc_rdcp_sldas_ebref_az9200_l88_pi_201710\" \\\n",
    "            + str(day) + str(hour) + str(minute) + \"00000.png\"\n",
    "    print(link)\n",
    "    image = requests.get(link, headers=headers).content\n",
    "    if image != error:\n",
    "        with open(\"radar/\" + str(year) + str(month) + str(day) + str(int(hour) + 8) + str(minute) + \"00.PNG\", 'ab') as f:  \n",
    "            f.write(image)\n",
    "    time.sleep(0.5)"
   ]
  },
  {
   "cell_type": "code",
   "execution_count": null,
   "metadata": {
    "collapsed": true
   },
   "outputs": [],
   "source": []
  }
 ],
 "metadata": {
  "kernelspec": {
   "display_name": "Python 3",
   "language": "python",
   "name": "python3"
  },
  "language_info": {
   "codemirror_mode": {
    "name": "ipython",
    "version": 3
   },
   "file_extension": ".py",
   "mimetype": "text/x-python",
   "name": "python",
   "nbconvert_exporter": "python",
   "pygments_lexer": "ipython3",
   "version": "3.6.3"
  }
 },
 "nbformat": 4,
 "nbformat_minor": 2
}
